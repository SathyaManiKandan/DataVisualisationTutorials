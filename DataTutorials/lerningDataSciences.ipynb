{
 "cells": [
  {
   "cell_type": "code",
   "execution_count": 41,
   "id": "1ed77fd9",
   "metadata": {},
   "outputs": [],
   "source": [
    "import os\n"
   ]
  },
  {
   "cell_type": "code",
   "execution_count": 42,
   "id": "61bf8cfc",
   "metadata": {},
   "outputs": [],
   "source": [
    "import urllib.request"
   ]
  },
  {
   "cell_type": "code",
   "execution_count": 43,
   "id": "eb2436f8",
   "metadata": {},
   "outputs": [
    {
     "data": {
      "text/plain": [
       "['.ipynb_checkpoints',\n",
       " '.jovianrc',\n",
       " '100 Exercises.ipynb',\n",
       " 'Adobe Photoshop 2021.lnk',\n",
       " 'AnalysingTabularDataPandas.ipynb',\n",
       " 'bankLoan',\n",
       " 'bankLoan.txt',\n",
       " 'covid_database',\n",
       " 'data',\n",
       " 'emis1',\n",
       " 'LearningDataScience.ipynb',\n",
       " 'lerningDataSciences.ipynb',\n",
       " 'Machine learning.ipynb',\n",
       " 'movies.csv',\n",
       " 'movies1.csv',\n",
       " 'orphan.sh',\n",
       " 'Removed Apps.html',\n",
       " 'sample',\n",
       " 'sathyappp']"
      ]
     },
     "execution_count": 43,
     "metadata": {},
     "output_type": "execute_result"
    }
   ],
   "source": [
    "os.listdir()"
   ]
  },
  {
   "cell_type": "code",
   "execution_count": 44,
   "id": "001d823b",
   "metadata": {},
   "outputs": [],
   "source": [
    "bankLoan = open('bankLoan.txt')"
   ]
  },
  {
   "cell_type": "code",
   "execution_count": 45,
   "id": "b6fbbb4f",
   "metadata": {},
   "outputs": [],
   "source": [
    "lines = bankLoan.readlines()"
   ]
  },
  {
   "cell_type": "code",
   "execution_count": 46,
   "id": "b267fab4",
   "metadata": {},
   "outputs": [
    {
     "data": {
      "text/plain": [
       "['amount,duration,rate,down_payment\\n',\n",
       " '100000,36,0.08,20000\\n',\n",
       " '200000,12,0.1,\\n',\n",
       " '628400,120,0.12,100000\\n',\n",
       " '4637400,240,0.06,\\n',\n",
       " '42900,90,0.07,8900\\n',\n",
       " '916000,16,0.13,\\n',\n",
       " '45230,48,0.08,4300\\n',\n",
       " '991360,99,0.08,\\n',\n",
       " '423000,27,0.09,47200']"
      ]
     },
     "execution_count": 46,
     "metadata": {},
     "output_type": "execute_result"
    }
   ],
   "source": [
    "lines"
   ]
  },
  {
   "cell_type": "code",
   "execution_count": 47,
   "id": "e9232c2a",
   "metadata": {},
   "outputs": [],
   "source": [
    "def prase_header(line):\n",
    "    return line.strip().split(',')"
   ]
  },
  {
   "cell_type": "code",
   "execution_count": 48,
   "id": "66710106",
   "metadata": {},
   "outputs": [
    {
     "data": {
      "text/plain": [
       "['amount', 'duration', 'rate', 'down_payment']"
      ]
     },
     "execution_count": 48,
     "metadata": {},
     "output_type": "execute_result"
    }
   ],
   "source": [
    "prase_header(lines[0])"
   ]
  },
  {
   "cell_type": "code",
   "execution_count": 49,
   "id": "69c4a441",
   "metadata": {},
   "outputs": [],
   "source": [
    "headers = prase_header(lines[0])"
   ]
  },
  {
   "cell_type": "code",
   "execution_count": 50,
   "id": "e4c20a16",
   "metadata": {},
   "outputs": [
    {
     "data": {
      "text/plain": [
       "['amount', 'duration', 'rate', 'down_payment']"
      ]
     },
     "execution_count": 50,
     "metadata": {},
     "output_type": "execute_result"
    }
   ],
   "source": [
    "headers"
   ]
  },
  {
   "cell_type": "code",
   "execution_count": 51,
   "id": "6d7c5e6a",
   "metadata": {},
   "outputs": [],
   "source": [
    "def prase_values(line):\n",
    "    values = []\n",
    "    for value in line.strip().split(','):\n",
    "        if(value ==''):\n",
    "            values.append(0.0)\n",
    "        else:\n",
    "            values.append(float(value))\n",
    "    return values"
   ]
  },
  {
   "cell_type": "code",
   "execution_count": 52,
   "id": "6ca5a283",
   "metadata": {},
   "outputs": [],
   "source": [
    "values = prase_values(lines[1])"
   ]
  },
  {
   "cell_type": "code",
   "execution_count": 53,
   "id": "6e6f1d8f",
   "metadata": {},
   "outputs": [
    {
     "data": {
      "text/plain": [
       "[100000.0, 36.0, 0.08, 20000.0]"
      ]
     },
     "execution_count": 53,
     "metadata": {},
     "output_type": "execute_result"
    }
   ],
   "source": [
    "values"
   ]
  },
  {
   "cell_type": "code",
   "execution_count": 54,
   "id": "f2b2e099",
   "metadata": {},
   "outputs": [
    {
     "data": {
      "text/plain": [
       "[200000.0, 12.0, 0.1, 0.0]"
      ]
     },
     "execution_count": 54,
     "metadata": {},
     "output_type": "execute_result"
    }
   ],
   "source": [
    "prase_values(lines[2])"
   ]
  },
  {
   "cell_type": "code",
   "execution_count": 55,
   "id": "7c131105",
   "metadata": {},
   "outputs": [],
   "source": [
    "def dict_val(headers, values):\n",
    "    res = {}\n",
    "    for header , val in zip(headers, values):\n",
    "        res[header] = val\n",
    "    return res"
   ]
  },
  {
   "cell_type": "code",
   "execution_count": 56,
   "id": "a67fa8b8",
   "metadata": {},
   "outputs": [
    {
     "data": {
      "text/plain": [
       "{'amount': 100000.0, 'duration': 36.0, 'rate': 0.08, 'down_payment': 20000.0}"
      ]
     },
     "execution_count": 56,
     "metadata": {},
     "output_type": "execute_result"
    }
   ],
   "source": [
    "dict_val(headers, prase_values(lines[1]))"
   ]
  },
  {
   "cell_type": "code",
   "execution_count": 57,
   "id": "bb730adb",
   "metadata": {},
   "outputs": [],
   "source": [
    "def read_csv(path):\n",
    "    res = []\n",
    "    with open(path) as file:\n",
    "        lines = file.readlines()\n",
    "    headers = prase_header(lines[0])\n",
    "    for line in lines[1 :] :\n",
    "        res.append(dict_val(headers,prase_values( line)))\n",
    "    return res\n",
    "        "
   ]
  },
  {
   "cell_type": "code",
   "execution_count": 58,
   "id": "17d9de5c",
   "metadata": {},
   "outputs": [
    {
     "data": {
      "text/plain": [
       "[{'amount': 100000.0, 'duration': 36.0, 'rate': 0.08, 'down_payment': 20000.0},\n",
       " {'amount': 200000.0, 'duration': 12.0, 'rate': 0.1, 'down_payment': 0.0},\n",
       " {'amount': 628400.0,\n",
       "  'duration': 120.0,\n",
       "  'rate': 0.12,\n",
       "  'down_payment': 100000.0},\n",
       " {'amount': 4637400.0, 'duration': 240.0, 'rate': 0.06, 'down_payment': 0.0},\n",
       " {'amount': 42900.0, 'duration': 90.0, 'rate': 0.07, 'down_payment': 8900.0},\n",
       " {'amount': 916000.0, 'duration': 16.0, 'rate': 0.13, 'down_payment': 0.0},\n",
       " {'amount': 45230.0, 'duration': 48.0, 'rate': 0.08, 'down_payment': 4300.0},\n",
       " {'amount': 991360.0, 'duration': 99.0, 'rate': 0.08, 'down_payment': 0.0},\n",
       " {'amount': 423000.0, 'duration': 27.0, 'rate': 0.09, 'down_payment': 47200.0}]"
      ]
     },
     "execution_count": 58,
     "metadata": {},
     "output_type": "execute_result"
    }
   ],
   "source": [
    "read_csv('bankLoan.txt')"
   ]
  },
  {
   "cell_type": "code",
   "execution_count": 59,
   "id": "0e8c2229",
   "metadata": {},
   "outputs": [
    {
     "data": {
      "text/plain": [
       "[{'amount': 100000.0, 'duration': 36.0, 'rate': 0.08, 'down_payment': 20000.0},\n",
       " {'amount': 200000.0, 'duration': 12.0, 'rate': 0.1, 'down_payment': 0.0},\n",
       " {'amount': 628400.0,\n",
       "  'duration': 120.0,\n",
       "  'rate': 0.12,\n",
       "  'down_payment': 100000.0},\n",
       " {'amount': 4637400.0, 'duration': 240.0, 'rate': 0.06, 'down_payment': 0.0},\n",
       " {'amount': 42900.0, 'duration': 90.0, 'rate': 0.07, 'down_payment': 8900.0},\n",
       " {'amount': 916000.0, 'duration': 16.0, 'rate': 0.13, 'down_payment': 0.0},\n",
       " {'amount': 45230.0, 'duration': 48.0, 'rate': 0.08, 'down_payment': 4300.0},\n",
       " {'amount': 991360.0, 'duration': 99.0, 'rate': 0.08, 'down_payment': 0.0},\n",
       " {'amount': 423000.0, 'duration': 27.0, 'rate': 0.09, 'down_payment': 47200.0}]"
      ]
     },
     "execution_count": 59,
     "metadata": {},
     "output_type": "execute_result"
    }
   ],
   "source": [
    "read_csv('bankLoan.txt')"
   ]
  },
  {
   "cell_type": "code",
   "execution_count": 60,
   "id": "f4b5faa3",
   "metadata": {},
   "outputs": [],
   "source": [
    "loans = read_csv('bankLoan')"
   ]
  },
  {
   "cell_type": "code",
   "execution_count": 61,
   "id": "106cad3a",
   "metadata": {},
   "outputs": [
    {
     "data": {
      "text/plain": [
       "[{'amount': 100000.0, 'duration': 36.0, 'rate': 0.08, 'down_payment': 20000.0},\n",
       " {'amount': 200000.0, 'duration': 12.0, 'rate': 0.1, 'down_payment': 0.0},\n",
       " {'amount': 628400.0,\n",
       "  'duration': 120.0,\n",
       "  'rate': 0.12,\n",
       "  'down_payment': 100000.0},\n",
       " {'amount': 4637400.0, 'duration': 240.0, 'rate': 0.06, 'down_payment': 0.0},\n",
       " {'amount': 42900.0, 'duration': 90.0, 'rate': 0.07, 'down_payment': 8900.0},\n",
       " {'amount': 916000.0, 'duration': 16.0, 'rate': 0.13, 'down_payment': 0.0},\n",
       " {'amount': 45230.0, 'duration': 48.0, 'rate': 0.08, 'down_payment': 4300.0},\n",
       " {'amount': 991360.0, 'duration': 99.0, 'rate': 0.08, 'down_payment': 0.0},\n",
       " {'amount': 423000.0, 'duration': 27.0, 'rate': 0.09, 'down_payment': 47200.0}]"
      ]
     },
     "execution_count": 61,
     "metadata": {},
     "output_type": "execute_result"
    }
   ],
   "source": [
    "loans"
   ]
  },
  {
   "cell_type": "code",
   "execution_count": 62,
   "id": "6f89b653",
   "metadata": {},
   "outputs": [],
   "source": [
    "import math\n",
    "\n",
    "def loan_emi(amount, duration, rate, down_payment=0):\n",
    "   \n",
    "    loan_amount = amount - down_payment\n",
    "    try:\n",
    "        emi = loan_amount * rate * ((1+rate)**duration) / (((1+rate)**duration)-1)\n",
    "    except ZeroDivisionError:\n",
    "        emi = loan_amount / duration\n",
    "    emi = math.ceil(emi)\n",
    "    return emi"
   ]
  },
  {
   "cell_type": "code",
   "execution_count": 63,
   "id": "84c5e3f8",
   "metadata": {},
   "outputs": [
    {
     "name": "stdout",
     "output_type": "stream",
     "text": [
      "Help on function loan_emi in module __main__:\n",
      "\n",
      "loan_emi(amount, duration, rate, down_payment=0)\n",
      "\n"
     ]
    }
   ],
   "source": [
    "help(loan_emi)"
   ]
  },
  {
   "cell_type": "code",
   "execution_count": 64,
   "id": "f28ca914",
   "metadata": {},
   "outputs": [],
   "source": [
    "def compute_emis(loans):\n",
    "    for loan in loans:\n",
    "           loan['emi'] = loan_emi(\n",
    "            loan['amount'], \n",
    "            loan['duration'], \n",
    "            loan['rate']/12, # the CSV contains yearly rates\n",
    "            loan['down_payment'])"
   ]
  },
  {
   "cell_type": "code",
   "execution_count": 65,
   "id": "26461ff3",
   "metadata": {},
   "outputs": [],
   "source": [
    "compute_emis(loans)"
   ]
  },
  {
   "cell_type": "code",
   "execution_count": 66,
   "id": "d6efcb1e",
   "metadata": {},
   "outputs": [
    {
     "data": {
      "text/plain": [
       "[{'amount': 100000.0,\n",
       "  'duration': 36.0,\n",
       "  'rate': 0.08,\n",
       "  'down_payment': 20000.0,\n",
       "  'emi': 2507},\n",
       " {'amount': 200000.0,\n",
       "  'duration': 12.0,\n",
       "  'rate': 0.1,\n",
       "  'down_payment': 0.0,\n",
       "  'emi': 17584},\n",
       " {'amount': 628400.0,\n",
       "  'duration': 120.0,\n",
       "  'rate': 0.12,\n",
       "  'down_payment': 100000.0,\n",
       "  'emi': 7582},\n",
       " {'amount': 4637400.0,\n",
       "  'duration': 240.0,\n",
       "  'rate': 0.06,\n",
       "  'down_payment': 0.0,\n",
       "  'emi': 33224},\n",
       " {'amount': 42900.0,\n",
       "  'duration': 90.0,\n",
       "  'rate': 0.07,\n",
       "  'down_payment': 8900.0,\n",
       "  'emi': 487},\n",
       " {'amount': 916000.0,\n",
       "  'duration': 16.0,\n",
       "  'rate': 0.13,\n",
       "  'down_payment': 0.0,\n",
       "  'emi': 62664},\n",
       " {'amount': 45230.0,\n",
       "  'duration': 48.0,\n",
       "  'rate': 0.08,\n",
       "  'down_payment': 4300.0,\n",
       "  'emi': 1000},\n",
       " {'amount': 991360.0,\n",
       "  'duration': 99.0,\n",
       "  'rate': 0.08,\n",
       "  'down_payment': 0.0,\n",
       "  'emi': 13712},\n",
       " {'amount': 423000.0,\n",
       "  'duration': 27.0,\n",
       "  'rate': 0.09,\n",
       "  'down_payment': 47200.0,\n",
       "  'emi': 15428}]"
      ]
     },
     "execution_count": 66,
     "metadata": {},
     "output_type": "execute_result"
    }
   ],
   "source": [
    "loans"
   ]
  },
  {
   "cell_type": "code",
   "execution_count": 67,
   "id": "7aceef17",
   "metadata": {},
   "outputs": [],
   "source": [
    "newFile = open('sample', 'w')"
   ]
  },
  {
   "cell_type": "code",
   "execution_count": 68,
   "id": "d91a5e1f",
   "metadata": {},
   "outputs": [
    {
     "data": {
      "text/plain": [
       "['.ipynb_checkpoints',\n",
       " '.jovianrc',\n",
       " '100 Exercises.ipynb',\n",
       " 'Adobe Photoshop 2021.lnk',\n",
       " 'AnalysingTabularDataPandas.ipynb',\n",
       " 'bankLoan',\n",
       " 'bankLoan.txt',\n",
       " 'covid_database',\n",
       " 'data',\n",
       " 'emis1',\n",
       " 'LearningDataScience.ipynb',\n",
       " 'lerningDataSciences.ipynb',\n",
       " 'Machine learning.ipynb',\n",
       " 'movies.csv',\n",
       " 'movies1.csv',\n",
       " 'orphan.sh',\n",
       " 'Removed Apps.html',\n",
       " 'sample',\n",
       " 'sathyappp']"
      ]
     },
     "execution_count": 68,
     "metadata": {},
     "output_type": "execute_result"
    }
   ],
   "source": [
    "os.listdir()"
   ]
  },
  {
   "cell_type": "code",
   "execution_count": 69,
   "id": "0c0b0396",
   "metadata": {},
   "outputs": [],
   "source": [
    "with open('emis1', 'w') as f:\n",
    "    for loan in loans :\n",
    "        f.write('{}, {}, {}, {}, {} \\n'.format(loan['amount'], loan['duration'], loan['rate'], loan['down_payment'], loan['emi']))"
   ]
  },
  {
   "cell_type": "code",
   "execution_count": 70,
   "id": "e748612f",
   "metadata": {},
   "outputs": [
    {
     "data": {
      "text/plain": [
       "['.ipynb_checkpoints',\n",
       " '.jovianrc',\n",
       " '100 Exercises.ipynb',\n",
       " 'Adobe Photoshop 2021.lnk',\n",
       " 'AnalysingTabularDataPandas.ipynb',\n",
       " 'bankLoan',\n",
       " 'bankLoan.txt',\n",
       " 'covid_database',\n",
       " 'data',\n",
       " 'emis1',\n",
       " 'LearningDataScience.ipynb',\n",
       " 'lerningDataSciences.ipynb',\n",
       " 'Machine learning.ipynb',\n",
       " 'movies.csv',\n",
       " 'movies1.csv',\n",
       " 'orphan.sh',\n",
       " 'Removed Apps.html',\n",
       " 'sample',\n",
       " 'sathyappp']"
      ]
     },
     "execution_count": 70,
     "metadata": {},
     "output_type": "execute_result"
    }
   ],
   "source": [
    "os.listdir()"
   ]
  },
  {
   "cell_type": "code",
   "execution_count": 71,
   "id": "b3bcb7a2",
   "metadata": {},
   "outputs": [
    {
     "name": "stdout",
     "output_type": "stream",
     "text": [
      "['100000.0, 36.0, 0.08, 20000.0, 2507 \\n', '200000.0, 12.0, 0.1, 0.0, 17584 \\n', '628400.0, 120.0, 0.12, 100000.0, 7582 \\n', '4637400.0, 240.0, 0.06, 0.0, 33224 \\n', '42900.0, 90.0, 0.07, 8900.0, 487 \\n', '916000.0, 16.0, 0.13, 0.0, 62664 \\n', '45230.0, 48.0, 0.08, 4300.0, 1000 \\n', '991360.0, 99.0, 0.08, 0.0, 13712 \\n', '423000.0, 27.0, 0.09, 47200.0, 15428 \\n']\n"
     ]
    }
   ],
   "source": [
    "with open('emis1') as file:\n",
    "    lines = file.readlines()\n",
    "print(lines)"
   ]
  },
  {
   "cell_type": "code",
   "execution_count": 72,
   "id": "0184843d",
   "metadata": {},
   "outputs": [],
   "source": [
    "import pandas as pd"
   ]
  },
  {
   "cell_type": "code",
   "execution_count": 73,
   "id": "a34b8d9f",
   "metadata": {},
   "outputs": [
    {
     "data": {
      "text/html": [
       "<div>\n",
       "<style scoped>\n",
       "    .dataframe tbody tr th:only-of-type {\n",
       "        vertical-align: middle;\n",
       "    }\n",
       "\n",
       "    .dataframe tbody tr th {\n",
       "        vertical-align: top;\n",
       "    }\n",
       "\n",
       "    .dataframe thead th {\n",
       "        text-align: right;\n",
       "    }\n",
       "</style>\n",
       "<table border=\"1\" class=\"dataframe\">\n",
       "  <thead>\n",
       "    <tr style=\"text-align: right;\">\n",
       "      <th></th>\n",
       "      <th>amount</th>\n",
       "      <th>duration</th>\n",
       "      <th>rate</th>\n",
       "      <th>down_payment</th>\n",
       "    </tr>\n",
       "  </thead>\n",
       "  <tbody>\n",
       "    <tr>\n",
       "      <th>0</th>\n",
       "      <td>100000</td>\n",
       "      <td>36</td>\n",
       "      <td>0.08</td>\n",
       "      <td>20000.0</td>\n",
       "    </tr>\n",
       "    <tr>\n",
       "      <th>1</th>\n",
       "      <td>200000</td>\n",
       "      <td>12</td>\n",
       "      <td>0.10</td>\n",
       "      <td>NaN</td>\n",
       "    </tr>\n",
       "    <tr>\n",
       "      <th>2</th>\n",
       "      <td>628400</td>\n",
       "      <td>120</td>\n",
       "      <td>0.12</td>\n",
       "      <td>100000.0</td>\n",
       "    </tr>\n",
       "    <tr>\n",
       "      <th>3</th>\n",
       "      <td>4637400</td>\n",
       "      <td>240</td>\n",
       "      <td>0.06</td>\n",
       "      <td>NaN</td>\n",
       "    </tr>\n",
       "    <tr>\n",
       "      <th>4</th>\n",
       "      <td>42900</td>\n",
       "      <td>90</td>\n",
       "      <td>0.07</td>\n",
       "      <td>8900.0</td>\n",
       "    </tr>\n",
       "    <tr>\n",
       "      <th>5</th>\n",
       "      <td>916000</td>\n",
       "      <td>16</td>\n",
       "      <td>0.13</td>\n",
       "      <td>NaN</td>\n",
       "    </tr>\n",
       "    <tr>\n",
       "      <th>6</th>\n",
       "      <td>45230</td>\n",
       "      <td>48</td>\n",
       "      <td>0.08</td>\n",
       "      <td>4300.0</td>\n",
       "    </tr>\n",
       "    <tr>\n",
       "      <th>7</th>\n",
       "      <td>991360</td>\n",
       "      <td>99</td>\n",
       "      <td>0.08</td>\n",
       "      <td>NaN</td>\n",
       "    </tr>\n",
       "    <tr>\n",
       "      <th>8</th>\n",
       "      <td>423000</td>\n",
       "      <td>27</td>\n",
       "      <td>0.09</td>\n",
       "      <td>47200.0</td>\n",
       "    </tr>\n",
       "  </tbody>\n",
       "</table>\n",
       "</div>"
      ],
      "text/plain": [
       "    amount  duration  rate  down_payment\n",
       "0   100000        36  0.08       20000.0\n",
       "1   200000        12  0.10           NaN\n",
       "2   628400       120  0.12      100000.0\n",
       "3  4637400       240  0.06           NaN\n",
       "4    42900        90  0.07        8900.0\n",
       "5   916000        16  0.13           NaN\n",
       "6    45230        48  0.08        4300.0\n",
       "7   991360        99  0.08           NaN\n",
       "8   423000        27  0.09       47200.0"
      ]
     },
     "execution_count": 73,
     "metadata": {},
     "output_type": "execute_result"
    }
   ],
   "source": [
    "pd.read_csv('bankLoan')"
   ]
  },
  {
   "cell_type": "code",
   "execution_count": 74,
   "id": "21b34954",
   "metadata": {},
   "outputs": [],
   "source": [
    "import urllib.request "
   ]
  },
  {
   "cell_type": "raw",
   "id": "3e6c808d",
   "metadata": {},
   "source": [
    "urllib.request.urlretrieve(\"https://gist.githubusercontent.com/aakashns/afee0a407d44bbc02321993548021af9/raw/6d7473f0ac4c54aca65fc4b06ed831b8a4840190/movies.csv\"\n",
    ", 'movies.csv')"
   ]
  },
  {
   "cell_type": "code",
   "execution_count": 75,
   "id": "2ddfbb9b",
   "metadata": {},
   "outputs": [
    {
     "data": {
      "text/plain": [
       "['.ipynb_checkpoints',\n",
       " '.jovianrc',\n",
       " '100 Exercises.ipynb',\n",
       " 'Adobe Photoshop 2021.lnk',\n",
       " 'AnalysingTabularDataPandas.ipynb',\n",
       " 'bankLoan',\n",
       " 'bankLoan.txt',\n",
       " 'covid_database',\n",
       " 'data',\n",
       " 'emis1',\n",
       " 'LearningDataScience.ipynb',\n",
       " 'lerningDataSciences.ipynb',\n",
       " 'Machine learning.ipynb',\n",
       " 'movies.csv',\n",
       " 'movies1.csv',\n",
       " 'orphan.sh',\n",
       " 'Removed Apps.html',\n",
       " 'sample',\n",
       " 'sathyappp']"
      ]
     },
     "execution_count": 75,
     "metadata": {},
     "output_type": "execute_result"
    }
   ],
   "source": [
    "os.listdir()"
   ]
  },
  {
   "cell_type": "code",
   "execution_count": 76,
   "id": "226abbcf",
   "metadata": {},
   "outputs": [
    {
     "data": {
      "text/plain": [
       "<_io.TextIOWrapper name='movies.csv' mode='r' encoding='cp1252'>"
      ]
     },
     "execution_count": 76,
     "metadata": {},
     "output_type": "execute_result"
    }
   ],
   "source": [
    "open('movies.csv')"
   ]
  },
  {
   "cell_type": "code",
   "execution_count": 77,
   "id": "d5bfd629",
   "metadata": {},
   "outputs": [
    {
     "data": {
      "text/plain": [
       "('movies.csv', <http.client.HTTPMessage at 0x226762c82e0>)"
      ]
     },
     "execution_count": 77,
     "metadata": {},
     "output_type": "execute_result"
    }
   ],
   "source": [
    "urllib.request.urlretrieve(\"https://gist.githubusercontent.com/aakashns/afee0a407d44bbc02321993548021af9/raw/6d7473f0ac4c54aca65fc4b06ed831b8a4840190/movies.csv\"\n",
    ", 'movies.csv')"
   ]
  },
  {
   "cell_type": "code",
   "execution_count": 78,
   "id": "09b0c152",
   "metadata": {},
   "outputs": [
    {
     "ename": "AttributeError",
     "evalue": "'str' object has no attribute 'read_csv'",
     "output_type": "error",
     "traceback": [
      "\u001b[1;31m---------------------------------------------------------------------------\u001b[0m",
      "\u001b[1;31mAttributeError\u001b[0m                            Traceback (most recent call last)",
      "\u001b[1;32m~\\AppData\\Local\\Temp/ipykernel_11468/1628256721.py\u001b[0m in \u001b[0;36m<module>\u001b[1;34m\u001b[0m\n\u001b[0;32m      1\u001b[0m \u001b[0mpath\u001b[0m \u001b[1;33m=\u001b[0m \u001b[1;34m'movies.csv'\u001b[0m\u001b[1;33m\u001b[0m\u001b[1;33m\u001b[0m\u001b[0m\n\u001b[1;32m----> 2\u001b[1;33m \u001b[0mpath\u001b[0m\u001b[1;33m.\u001b[0m\u001b[0mread_csv\u001b[0m\u001b[1;33m(\u001b[0m\u001b[1;33m)\u001b[0m\u001b[1;33m\u001b[0m\u001b[1;33m\u001b[0m\u001b[0m\n\u001b[0m",
      "\u001b[1;31mAttributeError\u001b[0m: 'str' object has no attribute 'read_csv'"
     ]
    }
   ],
   "source": [
    "\n",
    "path = 'movies.csv'\n",
    "path.read_csv()"
   ]
  },
  {
   "cell_type": "code",
   "execution_count": 79,
   "id": "57603d62",
   "metadata": {},
   "outputs": [],
   "source": [
    "movie_dataframe = pd.read_csv('movies.csv') "
   ]
  },
  {
   "cell_type": "code",
   "execution_count": 80,
   "id": "14ea5055",
   "metadata": {},
   "outputs": [
    {
     "data": {
      "text/html": [
       "<div>\n",
       "<style scoped>\n",
       "    .dataframe tbody tr th:only-of-type {\n",
       "        vertical-align: middle;\n",
       "    }\n",
       "\n",
       "    .dataframe tbody tr th {\n",
       "        vertical-align: top;\n",
       "    }\n",
       "\n",
       "    .dataframe thead th {\n",
       "        text-align: right;\n",
       "    }\n",
       "</style>\n",
       "<table border=\"1\" class=\"dataframe\">\n",
       "  <thead>\n",
       "    <tr style=\"text-align: right;\">\n",
       "      <th></th>\n",
       "      <th>title</th>\n",
       "      <th>description</th>\n",
       "    </tr>\n",
       "  </thead>\n",
       "  <tbody>\n",
       "    <tr>\n",
       "      <th>0</th>\n",
       "      <td>Fast &amp; Furious</td>\n",
       "      <td>A movie, a race, a franchise</td>\n",
       "    </tr>\n",
       "    <tr>\n",
       "      <th>1</th>\n",
       "      <td>The Dark Knight</td>\n",
       "      <td>Gotham, the \"Batman\", and the Joker</td>\n",
       "    </tr>\n",
       "    <tr>\n",
       "      <th>2</th>\n",
       "      <td>Memento</td>\n",
       "      <td>A guy forgets everything every 15 minutes</td>\n",
       "    </tr>\n",
       "  </tbody>\n",
       "</table>\n",
       "</div>"
      ],
      "text/plain": [
       "             title                                description\n",
       "0   Fast & Furious               A movie, a race, a franchise\n",
       "1  The Dark Knight        Gotham, the \"Batman\", and the Joker\n",
       "2          Memento  A guy forgets everything every 15 minutes"
      ]
     },
     "execution_count": 80,
     "metadata": {},
     "output_type": "execute_result"
    }
   ],
   "source": [
    "movie_dataframe"
   ]
  },
  {
   "cell_type": "code",
   "execution_count": 81,
   "id": "98394ea1",
   "metadata": {},
   "outputs": [],
   "source": [
    "movie_list = movie_dataframe.to_dict('records')"
   ]
  },
  {
   "cell_type": "code",
   "execution_count": 82,
   "id": "7b8b63f0",
   "metadata": {},
   "outputs": [
    {
     "data": {
      "text/plain": [
       "[{'title': 'Fast & Furious', 'description': 'A movie, a race, a franchise'},\n",
       " {'title': 'The Dark Knight',\n",
       "  'description': 'Gotham, the \"Batman\", and the Joker'},\n",
       " {'title': 'Memento',\n",
       "  'description': 'A guy forgets everything every 15 minutes'}]"
      ]
     },
     "execution_count": 82,
     "metadata": {},
     "output_type": "execute_result"
    }
   ],
   "source": [
    "movie_list"
   ]
  },
  {
   "cell_type": "code",
   "execution_count": 83,
   "id": "c0fc9299",
   "metadata": {},
   "outputs": [],
   "source": [
    "\n",
    "\n",
    "\n",
    "movie_dict = movie_dataframe.to_dict()"
   ]
  },
  {
   "cell_type": "code",
   "execution_count": 84,
   "id": "780294a9",
   "metadata": {},
   "outputs": [
    {
     "data": {
      "text/plain": [
       "{'title': {0: 'Fast & Furious', 1: 'The Dark Knight', 2: 'Memento'},\n",
       " 'description': {0: 'A movie, a race, a franchise',\n",
       "  1: 'Gotham, the \"Batman\", and the Joker',\n",
       "  2: 'A guy forgets everything every 15 minutes'}}"
      ]
     },
     "execution_count": 84,
     "metadata": {},
     "output_type": "execute_result"
    }
   ],
   "source": [
    "movie_dict"
   ]
  },
  {
   "cell_type": "code",
   "execution_count": 85,
   "id": "116dc129",
   "metadata": {},
   "outputs": [],
   "source": [
    "movie_df = pd.DataFrame(movie_list)"
   ]
  },
  {
   "cell_type": "code",
   "execution_count": 86,
   "id": "0ebdf811",
   "metadata": {},
   "outputs": [
    {
     "data": {
      "text/html": [
       "<div>\n",
       "<style scoped>\n",
       "    .dataframe tbody tr th:only-of-type {\n",
       "        vertical-align: middle;\n",
       "    }\n",
       "\n",
       "    .dataframe tbody tr th {\n",
       "        vertical-align: top;\n",
       "    }\n",
       "\n",
       "    .dataframe thead th {\n",
       "        text-align: right;\n",
       "    }\n",
       "</style>\n",
       "<table border=\"1\" class=\"dataframe\">\n",
       "  <thead>\n",
       "    <tr style=\"text-align: right;\">\n",
       "      <th></th>\n",
       "      <th>title</th>\n",
       "      <th>description</th>\n",
       "    </tr>\n",
       "  </thead>\n",
       "  <tbody>\n",
       "    <tr>\n",
       "      <th>0</th>\n",
       "      <td>Fast &amp; Furious</td>\n",
       "      <td>A movie, a race, a franchise</td>\n",
       "    </tr>\n",
       "    <tr>\n",
       "      <th>1</th>\n",
       "      <td>The Dark Knight</td>\n",
       "      <td>Gotham, the \"Batman\", and the Joker</td>\n",
       "    </tr>\n",
       "    <tr>\n",
       "      <th>2</th>\n",
       "      <td>Memento</td>\n",
       "      <td>A guy forgets everything every 15 minutes</td>\n",
       "    </tr>\n",
       "  </tbody>\n",
       "</table>\n",
       "</div>"
      ],
      "text/plain": [
       "             title                                description\n",
       "0   Fast & Furious               A movie, a race, a franchise\n",
       "1  The Dark Knight        Gotham, the \"Batman\", and the Joker\n",
       "2          Memento  A guy forgets everything every 15 minutes"
      ]
     },
     "execution_count": 86,
     "metadata": {},
     "output_type": "execute_result"
    }
   ],
   "source": [
    "\n",
    "\n",
    "movie_df"
   ]
  },
  {
   "cell_type": "code",
   "execution_count": 87,
   "id": "165c1f7f",
   "metadata": {},
   "outputs": [],
   "source": [
    "\n",
    "\n",
    "\n",
    "\n",
    "\n",
    "\n",
    "movie_df.to_csv('movies1.csv', index =None)"
   ]
  },
  {
   "cell_type": "code",
   "execution_count": 88,
   "id": "f7e67e0b",
   "metadata": {},
   "outputs": [
    {
     "data": {
      "text/html": [
       "<div>\n",
       "<style scoped>\n",
       "    .dataframe tbody tr th:only-of-type {\n",
       "        vertical-align: middle;\n",
       "    }\n",
       "\n",
       "    .dataframe tbody tr th {\n",
       "        vertical-align: top;\n",
       "    }\n",
       "\n",
       "    .dataframe thead th {\n",
       "        text-align: right;\n",
       "    }\n",
       "</style>\n",
       "<table border=\"1\" class=\"dataframe\">\n",
       "  <thead>\n",
       "    <tr style=\"text-align: right;\">\n",
       "      <th></th>\n",
       "      <th>title</th>\n",
       "      <th>description</th>\n",
       "    </tr>\n",
       "  </thead>\n",
       "  <tbody>\n",
       "    <tr>\n",
       "      <th>0</th>\n",
       "      <td>Fast &amp; Furious</td>\n",
       "      <td>A movie, a race, a franchise</td>\n",
       "    </tr>\n",
       "    <tr>\n",
       "      <th>1</th>\n",
       "      <td>The Dark Knight</td>\n",
       "      <td>Gotham, the \"Batman\", and the Joker</td>\n",
       "    </tr>\n",
       "    <tr>\n",
       "      <th>2</th>\n",
       "      <td>Memento</td>\n",
       "      <td>A guy forgets everything every 15 minutes</td>\n",
       "    </tr>\n",
       "  </tbody>\n",
       "</table>\n",
       "</div>"
      ],
      "text/plain": [
       "             title                                description\n",
       "0   Fast & Furious               A movie, a race, a franchise\n",
       "1  The Dark Knight        Gotham, the \"Batman\", and the Joker\n",
       "2          Memento  A guy forgets everything every 15 minutes"
      ]
     },
     "execution_count": 88,
     "metadata": {},
     "output_type": "execute_result"
    }
   ],
   "source": [
    "pd.read_csv('movies1.csv')"
   ]
  },
  {
   "cell_type": "code",
   "execution_count": null,
   "id": "87130933",
   "metadata": {},
   "outputs": [],
   "source": []
  },
  {
   "cell_type": "code",
   "execution_count": 89,
   "id": "5fdc6a8c",
   "metadata": {},
   "outputs": [
    {
     "data": {
      "text/html": [
       "<div>\n",
       "<style scoped>\n",
       "    .dataframe tbody tr th:only-of-type {\n",
       "        vertical-align: middle;\n",
       "    }\n",
       "\n",
       "    .dataframe tbody tr th {\n",
       "        vertical-align: top;\n",
       "    }\n",
       "\n",
       "    .dataframe thead th {\n",
       "        text-align: right;\n",
       "    }\n",
       "</style>\n",
       "<table border=\"1\" class=\"dataframe\">\n",
       "  <thead>\n",
       "    <tr style=\"text-align: right;\">\n",
       "      <th></th>\n",
       "      <th>title</th>\n",
       "      <th>description</th>\n",
       "    </tr>\n",
       "  </thead>\n",
       "  <tbody>\n",
       "    <tr>\n",
       "      <th>0</th>\n",
       "      <td>Fast &amp; Furious</td>\n",
       "      <td>A movie, a race, a franchise</td>\n",
       "    </tr>\n",
       "    <tr>\n",
       "      <th>1</th>\n",
       "      <td>The Dark Knight</td>\n",
       "      <td>Gotham, the \"Batman\", and the Joker</td>\n",
       "    </tr>\n",
       "    <tr>\n",
       "      <th>2</th>\n",
       "      <td>Memento</td>\n",
       "      <td>A guy forgets everything every 15 minutes</td>\n",
       "    </tr>\n",
       "  </tbody>\n",
       "</table>\n",
       "</div>"
      ],
      "text/plain": [
       "             title                                description\n",
       "0   Fast & Furious               A movie, a race, a franchise\n",
       "1  The Dark Knight        Gotham, the \"Batman\", and the Joker\n",
       "2          Memento  A guy forgets everything every 15 minutes"
      ]
     },
     "execution_count": 89,
     "metadata": {},
     "output_type": "execute_result"
    }
   ],
   "source": [
    "movie_df"
   ]
  },
  {
   "cell_type": "code",
   "execution_count": 90,
   "id": "2d3267b5",
   "metadata": {},
   "outputs": [
    {
     "data": {
      "text/html": [
       "<div>\n",
       "<style scoped>\n",
       "    .dataframe tbody tr th:only-of-type {\n",
       "        vertical-align: middle;\n",
       "    }\n",
       "\n",
       "    .dataframe tbody tr th {\n",
       "        vertical-align: top;\n",
       "    }\n",
       "\n",
       "    .dataframe thead th {\n",
       "        text-align: right;\n",
       "    }\n",
       "</style>\n",
       "<table border=\"1\" class=\"dataframe\">\n",
       "  <thead>\n",
       "    <tr style=\"text-align: right;\">\n",
       "      <th></th>\n",
       "      <th>title</th>\n",
       "      <th>description</th>\n",
       "    </tr>\n",
       "  </thead>\n",
       "  <tbody>\n",
       "    <tr>\n",
       "      <th>0</th>\n",
       "      <td>Fast &amp; Furious</td>\n",
       "      <td>A movie, a race, a franchise</td>\n",
       "    </tr>\n",
       "    <tr>\n",
       "      <th>1</th>\n",
       "      <td>The Dark Knight</td>\n",
       "      <td>Gotham, the \"Batman\", and the Joker</td>\n",
       "    </tr>\n",
       "    <tr>\n",
       "      <th>2</th>\n",
       "      <td>Memento</td>\n",
       "      <td>A guy forgets everything every 15 minutes</td>\n",
       "    </tr>\n",
       "  </tbody>\n",
       "</table>\n",
       "</div>"
      ],
      "text/plain": [
       "             title                                description\n",
       "0   Fast & Furious               A movie, a race, a franchise\n",
       "1  The Dark Knight        Gotham, the \"Batman\", and the Joker\n",
       "2          Memento  A guy forgets everything every 15 minutes"
      ]
     },
     "execution_count": 90,
     "metadata": {},
     "output_type": "execute_result"
    }
   ],
   "source": [
    "movie_df"
   ]
  },
  {
   "cell_type": "code",
   "execution_count": 91,
   "id": "64c32327",
   "metadata": {},
   "outputs": [],
   "source": [
    "import numpy as np\n",
    "data = np.genfromtxt('bankLoan', delimiter = ',', skip_header = True)"
   ]
  },
  {
   "cell_type": "code",
   "execution_count": 92,
   "id": "9a8464c1",
   "metadata": {},
   "outputs": [
    {
     "data": {
      "text/plain": [
       "array([[1.0000e+05, 3.6000e+01, 8.0000e-02, 2.0000e+04],\n",
       "       [2.0000e+05, 1.2000e+01, 1.0000e-01,        nan],\n",
       "       [6.2840e+05, 1.2000e+02, 1.2000e-01, 1.0000e+05],\n",
       "       [4.6374e+06, 2.4000e+02, 6.0000e-02,        nan],\n",
       "       [4.2900e+04, 9.0000e+01, 7.0000e-02, 8.9000e+03],\n",
       "       [9.1600e+05, 1.6000e+01, 1.3000e-01,        nan],\n",
       "       [4.5230e+04, 4.8000e+01, 8.0000e-02, 4.3000e+03],\n",
       "       [9.9136e+05, 9.9000e+01, 8.0000e-02,        nan],\n",
       "       [4.2300e+05, 2.7000e+01, 9.0000e-02, 4.7200e+04]])"
      ]
     },
     "execution_count": 92,
     "metadata": {},
     "output_type": "execute_result"
    }
   ],
   "source": [
    "data"
   ]
  },
  {
   "cell_type": "code",
   "execution_count": 93,
   "id": "0c170e60",
   "metadata": {},
   "outputs": [
    {
     "data": {
      "text/html": [
       "<div>\n",
       "<style scoped>\n",
       "    .dataframe tbody tr th:only-of-type {\n",
       "        vertical-align: middle;\n",
       "    }\n",
       "\n",
       "    .dataframe tbody tr th {\n",
       "        vertical-align: top;\n",
       "    }\n",
       "\n",
       "    .dataframe thead th {\n",
       "        text-align: right;\n",
       "    }\n",
       "</style>\n",
       "<table border=\"1\" class=\"dataframe\">\n",
       "  <thead>\n",
       "    <tr style=\"text-align: right;\">\n",
       "      <th></th>\n",
       "      <th>amount</th>\n",
       "      <th>duration</th>\n",
       "      <th>rate</th>\n",
       "      <th>down_payment</th>\n",
       "    </tr>\n",
       "  </thead>\n",
       "  <tbody>\n",
       "    <tr>\n",
       "      <th>0</th>\n",
       "      <td>100000</td>\n",
       "      <td>36</td>\n",
       "      <td>0.08</td>\n",
       "      <td>20000.0</td>\n",
       "    </tr>\n",
       "    <tr>\n",
       "      <th>1</th>\n",
       "      <td>200000</td>\n",
       "      <td>12</td>\n",
       "      <td>0.10</td>\n",
       "      <td>NaN</td>\n",
       "    </tr>\n",
       "    <tr>\n",
       "      <th>2</th>\n",
       "      <td>628400</td>\n",
       "      <td>120</td>\n",
       "      <td>0.12</td>\n",
       "      <td>100000.0</td>\n",
       "    </tr>\n",
       "    <tr>\n",
       "      <th>3</th>\n",
       "      <td>4637400</td>\n",
       "      <td>240</td>\n",
       "      <td>0.06</td>\n",
       "      <td>NaN</td>\n",
       "    </tr>\n",
       "    <tr>\n",
       "      <th>4</th>\n",
       "      <td>42900</td>\n",
       "      <td>90</td>\n",
       "      <td>0.07</td>\n",
       "      <td>8900.0</td>\n",
       "    </tr>\n",
       "    <tr>\n",
       "      <th>5</th>\n",
       "      <td>916000</td>\n",
       "      <td>16</td>\n",
       "      <td>0.13</td>\n",
       "      <td>NaN</td>\n",
       "    </tr>\n",
       "    <tr>\n",
       "      <th>6</th>\n",
       "      <td>45230</td>\n",
       "      <td>48</td>\n",
       "      <td>0.08</td>\n",
       "      <td>4300.0</td>\n",
       "    </tr>\n",
       "    <tr>\n",
       "      <th>7</th>\n",
       "      <td>991360</td>\n",
       "      <td>99</td>\n",
       "      <td>0.08</td>\n",
       "      <td>NaN</td>\n",
       "    </tr>\n",
       "    <tr>\n",
       "      <th>8</th>\n",
       "      <td>423000</td>\n",
       "      <td>27</td>\n",
       "      <td>0.09</td>\n",
       "      <td>47200.0</td>\n",
       "    </tr>\n",
       "  </tbody>\n",
       "</table>\n",
       "</div>"
      ],
      "text/plain": [
       "    amount  duration  rate  down_payment\n",
       "0   100000        36  0.08       20000.0\n",
       "1   200000        12  0.10           NaN\n",
       "2   628400       120  0.12      100000.0\n",
       "3  4637400       240  0.06           NaN\n",
       "4    42900        90  0.07        8900.0\n",
       "5   916000        16  0.13           NaN\n",
       "6    45230        48  0.08        4300.0\n",
       "7   991360        99  0.08           NaN\n",
       "8   423000        27  0.09       47200.0"
      ]
     },
     "execution_count": 93,
     "metadata": {},
     "output_type": "execute_result"
    }
   ],
   "source": [
    "pd.read_csv('bankLoan')"
   ]
  },
  {
   "cell_type": "code",
   "execution_count": 94,
   "id": "fb4e61a8",
   "metadata": {},
   "outputs": [],
   "source": [
    "weight = np.array([1,2,3,4])"
   ]
  },
  {
   "cell_type": "code",
   "execution_count": 95,
   "id": "644d425d",
   "metadata": {},
   "outputs": [
    {
     "data": {
      "text/plain": [
       "array([1, 2, 3, 4])"
      ]
     },
     "execution_count": 95,
     "metadata": {},
     "output_type": "execute_result"
    }
   ],
   "source": [
    "weight"
   ]
  },
  {
   "cell_type": "code",
   "execution_count": 96,
   "id": "765367a2",
   "metadata": {},
   "outputs": [],
   "source": [
    "ans = data@ weight"
   ]
  },
  {
   "cell_type": "code",
   "execution_count": 97,
   "id": "016144f3",
   "metadata": {},
   "outputs": [
    {
     "data": {
      "text/plain": [
       "array([ 180072.24,        nan, 1028640.36,        nan,   78680.21,\n",
       "              nan,   62526.24,        nan,  611854.27])"
      ]
     },
     "execution_count": 97,
     "metadata": {},
     "output_type": "execute_result"
    }
   ],
   "source": [
    "ans"
   ]
  },
  {
   "cell_type": "code",
   "execution_count": null,
   "id": "b010918d",
   "metadata": {},
   "outputs": [],
   "source": []
  },
  {
   "cell_type": "code",
   "execution_count": 98,
   "id": "45645e0d",
   "metadata": {},
   "outputs": [
    {
     "ename": "TypeError",
     "evalue": "only integer scalar arrays can be converted to a scalar index",
     "output_type": "error",
     "traceback": [
      "\u001b[1;31m---------------------------------------------------------------------------\u001b[0m",
      "\u001b[1;31mTypeError\u001b[0m                                 Traceback (most recent call last)",
      "\u001b[1;32m~\\AppData\\Local\\Temp/ipykernel_11468/1528098913.py\u001b[0m in \u001b[0;36m<module>\u001b[1;34m\u001b[0m\n\u001b[1;32m----> 1\u001b[1;33m \u001b[0mnp\u001b[0m\u001b[1;33m.\u001b[0m\u001b[0mconcatenate\u001b[0m\u001b[1;33m(\u001b[0m\u001b[0mdata\u001b[0m\u001b[1;33m,\u001b[0m\u001b[0mans\u001b[0m\u001b[1;33m,\u001b[0m  \u001b[1;33m)\u001b[0m\u001b[1;33m\u001b[0m\u001b[1;33m\u001b[0m\u001b[0m\n\u001b[0m",
      "\u001b[1;32m<__array_function__ internals>\u001b[0m in \u001b[0;36mconcatenate\u001b[1;34m(*args, **kwargs)\u001b[0m\n",
      "\u001b[1;31mTypeError\u001b[0m: only integer scalar arrays can be converted to a scalar index"
     ]
    }
   ],
   "source": [
    "np.concatenate(data,ans,  )"
   ]
  },
  {
   "cell_type": "code",
   "execution_count": 99,
   "id": "eafce041",
   "metadata": {},
   "outputs": [
    {
     "data": {
      "text/html": [
       "<div>\n",
       "<style scoped>\n",
       "    .dataframe tbody tr th:only-of-type {\n",
       "        vertical-align: middle;\n",
       "    }\n",
       "\n",
       "    .dataframe tbody tr th {\n",
       "        vertical-align: top;\n",
       "    }\n",
       "\n",
       "    .dataframe thead th {\n",
       "        text-align: right;\n",
       "    }\n",
       "</style>\n",
       "<table border=\"1\" class=\"dataframe\">\n",
       "  <thead>\n",
       "    <tr style=\"text-align: right;\">\n",
       "      <th></th>\n",
       "      <th>amount</th>\n",
       "      <th>duration</th>\n",
       "      <th>rate</th>\n",
       "      <th>down_payment</th>\n",
       "    </tr>\n",
       "  </thead>\n",
       "  <tbody>\n",
       "    <tr>\n",
       "      <th>0</th>\n",
       "      <td>100000</td>\n",
       "      <td>36</td>\n",
       "      <td>0.08</td>\n",
       "      <td>20000.0</td>\n",
       "    </tr>\n",
       "    <tr>\n",
       "      <th>1</th>\n",
       "      <td>200000</td>\n",
       "      <td>12</td>\n",
       "      <td>0.10</td>\n",
       "      <td>NaN</td>\n",
       "    </tr>\n",
       "    <tr>\n",
       "      <th>2</th>\n",
       "      <td>628400</td>\n",
       "      <td>120</td>\n",
       "      <td>0.12</td>\n",
       "      <td>100000.0</td>\n",
       "    </tr>\n",
       "    <tr>\n",
       "      <th>3</th>\n",
       "      <td>4637400</td>\n",
       "      <td>240</td>\n",
       "      <td>0.06</td>\n",
       "      <td>NaN</td>\n",
       "    </tr>\n",
       "    <tr>\n",
       "      <th>4</th>\n",
       "      <td>42900</td>\n",
       "      <td>90</td>\n",
       "      <td>0.07</td>\n",
       "      <td>8900.0</td>\n",
       "    </tr>\n",
       "    <tr>\n",
       "      <th>5</th>\n",
       "      <td>916000</td>\n",
       "      <td>16</td>\n",
       "      <td>0.13</td>\n",
       "      <td>NaN</td>\n",
       "    </tr>\n",
       "    <tr>\n",
       "      <th>6</th>\n",
       "      <td>45230</td>\n",
       "      <td>48</td>\n",
       "      <td>0.08</td>\n",
       "      <td>4300.0</td>\n",
       "    </tr>\n",
       "    <tr>\n",
       "      <th>7</th>\n",
       "      <td>991360</td>\n",
       "      <td>99</td>\n",
       "      <td>0.08</td>\n",
       "      <td>NaN</td>\n",
       "    </tr>\n",
       "    <tr>\n",
       "      <th>8</th>\n",
       "      <td>423000</td>\n",
       "      <td>27</td>\n",
       "      <td>0.09</td>\n",
       "      <td>47200.0</td>\n",
       "    </tr>\n",
       "  </tbody>\n",
       "</table>\n",
       "</div>"
      ],
      "text/plain": [
       "    amount  duration  rate  down_payment\n",
       "0   100000        36  0.08       20000.0\n",
       "1   200000        12  0.10           NaN\n",
       "2   628400       120  0.12      100000.0\n",
       "3  4637400       240  0.06           NaN\n",
       "4    42900        90  0.07        8900.0\n",
       "5   916000        16  0.13           NaN\n",
       "6    45230        48  0.08        4300.0\n",
       "7   991360        99  0.08           NaN\n",
       "8   423000        27  0.09       47200.0"
      ]
     },
     "execution_count": 99,
     "metadata": {},
     "output_type": "execute_result"
    }
   ],
   "source": [
    "pd.read_csv('bankLoan')"
   ]
  },
  {
   "cell_type": "code",
   "execution_count": 100,
   "id": "a5b3b494",
   "metadata": {},
   "outputs": [
    {
     "data": {
      "text/plain": [
       "array([1, 2, 3, 4])"
      ]
     },
     "execution_count": 100,
     "metadata": {},
     "output_type": "execute_result"
    }
   ],
   "source": [
    "weight.transpose()"
   ]
  },
  {
   "cell_type": "code",
   "execution_count": 101,
   "id": "50803a08",
   "metadata": {},
   "outputs": [
    {
     "data": {
      "text/plain": [
       "array([1, 2, 3, 4])"
      ]
     },
     "execution_count": 101,
     "metadata": {},
     "output_type": "execute_result"
    }
   ],
   "source": [
    "np.transpose(weight)"
   ]
  },
  {
   "cell_type": "code",
   "execution_count": 102,
   "id": "9e4f78df",
   "metadata": {},
   "outputs": [
    {
     "data": {
      "text/plain": [
       "array([1, 2, 3, 4])"
      ]
     },
     "execution_count": 102,
     "metadata": {},
     "output_type": "execute_result"
    }
   ],
   "source": [
    "weight"
   ]
  },
  {
   "cell_type": "code",
   "execution_count": 103,
   "id": "3dd0242a",
   "metadata": {},
   "outputs": [
    {
     "ename": "NameError",
     "evalue": "name 'a' is not defined",
     "output_type": "error",
     "traceback": [
      "\u001b[1;31m---------------------------------------------------------------------------\u001b[0m",
      "\u001b[1;31mNameError\u001b[0m                                 Traceback (most recent call last)",
      "\u001b[1;32m~\\AppData\\Local\\Temp/ipykernel_11468/2167009006.py\u001b[0m in \u001b[0;36m<module>\u001b[1;34m\u001b[0m\n\u001b[1;32m----> 1\u001b[1;33m \u001b[0ma\u001b[0m\u001b[1;33m\u001b[0m\u001b[1;33m\u001b[0m\u001b[0m\n\u001b[0m",
      "\u001b[1;31mNameError\u001b[0m: name 'a' is not defined"
     ]
    }
   ],
   "source": [
    "a"
   ]
  },
  {
   "cell_type": "code",
   "execution_count": 106,
   "id": "27257242",
   "metadata": {},
   "outputs": [
    {
     "data": {
      "text/plain": [
       "array([[1., 0., 0., 0., 0.],\n",
       "       [0., 1., 0., 0., 0.],\n",
       "       [0., 0., 1., 0., 0.],\n",
       "       [0., 0., 0., 1., 0.],\n",
       "       [0., 0., 0., 0., 1.]])"
      ]
     },
     "execution_count": 106,
     "metadata": {},
     "output_type": "execute_result"
    }
   ],
   "source": [
    "np.eye(5)"
   ]
  },
  {
   "cell_type": "code",
   "execution_count": 108,
   "id": "7bc1d9fb",
   "metadata": {},
   "outputs": [
    {
     "data": {
      "text/plain": [
       "array([3, 5, 7])"
      ]
     },
     "execution_count": 108,
     "metadata": {},
     "output_type": "execute_result"
    }
   ],
   "source": [
    "np.arange(3, 8, 2)"
   ]
  },
  {
   "cell_type": "code",
   "execution_count": 110,
   "id": "053a1524",
   "metadata": {},
   "outputs": [
    {
     "data": {
      "text/plain": [
       "array([2, 2])"
      ]
     },
     "execution_count": 110,
     "metadata": {},
     "output_type": "execute_result"
    }
   ],
   "source": [
    "np.full([2],2)"
   ]
  },
  {
   "cell_type": "code",
   "execution_count": null,
   "id": "11dcce3b",
   "metadata": {},
   "outputs": [],
   "source": []
  }
 ],
 "metadata": {
  "kernelspec": {
   "display_name": "Python 3 (ipykernel)",
   "language": "python",
   "name": "python3"
  },
  "language_info": {
   "codemirror_mode": {
    "name": "ipython",
    "version": 3
   },
   "file_extension": ".py",
   "mimetype": "text/x-python",
   "name": "python",
   "nbconvert_exporter": "python",
   "pygments_lexer": "ipython3",
   "version": "3.9.7"
  }
 },
 "nbformat": 4,
 "nbformat_minor": 5
}
