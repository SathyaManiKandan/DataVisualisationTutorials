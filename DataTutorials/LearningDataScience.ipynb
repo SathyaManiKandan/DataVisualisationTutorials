{
 "cells": [
  {
   "cell_type": "code",
   "execution_count": 91,
   "id": "304cd1af",
   "metadata": {},
   "outputs": [],
   "source": [
    "import os\n"
   ]
  },
  {
   "cell_type": "code",
   "execution_count": 92,
   "id": "b6cfadd5",
   "metadata": {},
   "outputs": [],
   "source": [
    "import urllib.request"
   ]
  },
  {
   "cell_type": "code",
   "execution_count": 94,
   "id": "a1dc0d6b",
   "metadata": {},
   "outputs": [
    {
     "data": {
      "text/plain": [
       "['.ipynb_checkpoints',\n",
       " 'Adobe Photoshop 2021.lnk',\n",
       " 'bankLoan',\n",
       " 'bankLoan.txt',\n",
       " 'data',\n",
       " 'LearningDataScience.ipynb',\n",
       " 'Machine learning.ipynb',\n",
       " 'orphan.sh',\n",
       " 'Removed Apps.html',\n",
       " 'sathyappp']"
      ]
     },
     "execution_count": 94,
     "metadata": {},
     "output_type": "execute_result"
    }
   ],
   "source": [
    "os.listdir()"
   ]
  },
  {
   "cell_type": "code",
   "execution_count": 95,
   "id": "3b789a72",
   "metadata": {},
   "outputs": [],
   "source": [
    "bankLoan = open('bankLoan.txt')"
   ]
  },
  {
   "cell_type": "code",
   "execution_count": 96,
   "id": "baa2a080",
   "metadata": {},
   "outputs": [],
   "source": [
    "lines = bankLoan.readlines()"
   ]
  },
  {
   "cell_type": "code",
   "execution_count": 97,
   "id": "d477169b",
   "metadata": {},
   "outputs": [
    {
     "data": {
      "text/plain": [
       "['amount,duration,rate,down_payment\\n',\n",
       " '100000,36,0.08,20000\\n',\n",
       " '200000,12,0.1,\\n',\n",
       " '628400,120,0.12,100000\\n',\n",
       " '4637400,240,0.06,\\n',\n",
       " '42900,90,0.07,8900\\n',\n",
       " '916000,16,0.13,\\n',\n",
       " '45230,48,0.08,4300\\n',\n",
       " '991360,99,0.08,\\n',\n",
       " '423000,27,0.09,47200']"
      ]
     },
     "execution_count": 97,
     "metadata": {},
     "output_type": "execute_result"
    }
   ],
   "source": [
    "lines"
   ]
  },
  {
   "cell_type": "code",
   "execution_count": 98,
   "id": "d05f2c1c",
   "metadata": {},
   "outputs": [],
   "source": [
    "def prase_header(line):\n",
    "    return line.strip().split(',')"
   ]
  },
  {
   "cell_type": "code",
   "execution_count": 99,
   "id": "938564a0",
   "metadata": {},
   "outputs": [
    {
     "data": {
      "text/plain": [
       "['amount', 'duration', 'rate', 'down_payment']"
      ]
     },
     "execution_count": 99,
     "metadata": {},
     "output_type": "execute_result"
    }
   ],
   "source": [
    "prase_header(lines[0])"
   ]
  },
  {
   "cell_type": "code",
   "execution_count": 100,
   "id": "cea0f321",
   "metadata": {},
   "outputs": [],
   "source": [
    "headers = prase_header(lines[0])"
   ]
  },
  {
   "cell_type": "code",
   "execution_count": 101,
   "id": "9c16a20b",
   "metadata": {},
   "outputs": [
    {
     "data": {
      "text/plain": [
       "['amount', 'duration', 'rate', 'down_payment']"
      ]
     },
     "execution_count": 101,
     "metadata": {},
     "output_type": "execute_result"
    }
   ],
   "source": [
    "headers"
   ]
  },
  {
   "cell_type": "code",
   "execution_count": 111,
   "id": "60e98234",
   "metadata": {},
   "outputs": [],
   "source": [
    "def prase_values(line):\n",
    "    values = []\n",
    "    for value in line.strip().split(','):\n",
    "        if(value ==''):\n",
    "            values.append(0.0)\n",
    "        else:\n",
    "            values.append(float(value))\n",
    "    return values"
   ]
  },
  {
   "cell_type": "code",
   "execution_count": 106,
   "id": "42f1f4c4",
   "metadata": {},
   "outputs": [],
   "source": [
    "values = prase_values(lines[1])"
   ]
  },
  {
   "cell_type": "code",
   "execution_count": 107,
   "id": "a611f488",
   "metadata": {},
   "outputs": [
    {
     "data": {
      "text/plain": [
       "[100000.0, 36.0, 0.08, 20000.0]"
      ]
     },
     "execution_count": 107,
     "metadata": {},
     "output_type": "execute_result"
    }
   ],
   "source": [
    "values"
   ]
  },
  {
   "cell_type": "code",
   "execution_count": 112,
   "id": "f544ad19",
   "metadata": {},
   "outputs": [
    {
     "data": {
      "text/plain": [
       "[200000.0, 12.0, 0.1, 0.0]"
      ]
     },
     "execution_count": 112,
     "metadata": {},
     "output_type": "execute_result"
    }
   ],
   "source": [
    "prase_values(lines[2])"
   ]
  },
  {
   "cell_type": "code",
   "execution_count": 113,
   "id": "e49263e5",
   "metadata": {},
   "outputs": [],
   "source": [
    "def dict_val(headers, values):\n",
    "    res = {}\n",
    "    for header , val in zip(headers, values):\n",
    "        res[header] = val\n",
    "    return res"
   ]
  },
  {
   "cell_type": "code",
   "execution_count": 126,
   "id": "265750df",
   "metadata": {},
   "outputs": [
    {
     "data": {
      "text/plain": [
       "{'amount': 100000.0, 'duration': 36.0, 'rate': 0.08, 'down_payment': 20000.0}"
      ]
     },
     "execution_count": 126,
     "metadata": {},
     "output_type": "execute_result"
    }
   ],
   "source": [
    "dict_val(headers, prase_values(lines[1]))"
   ]
  },
  {
   "cell_type": "code",
   "execution_count": 124,
   "id": "ed4353bc",
   "metadata": {},
   "outputs": [],
   "source": [
    "def read_csv(path):\n",
    "    res = []\n",
    "    with open(path) as file:\n",
    "        lines = file.readlines()\n",
    "    headers = prase_header(lines[0])\n",
    "    for line in lines[1 :] :\n",
    "        res.append(dict_val(headers,prase_values( line)))\n",
    "    return res\n",
    "        "
   ]
  },
  {
   "cell_type": "code",
   "execution_count": 123,
   "id": "1d6483b3",
   "metadata": {},
   "outputs": [
    {
     "data": {
      "text/plain": [
       "[{'amount': '1', 'duration': '0', 'rate': '0', 'down_payment': '0'},\n",
       " {'amount': '2', 'duration': '0', 'rate': '0', 'down_payment': '0'},\n",
       " {'amount': '6', 'duration': '2', 'rate': '8', 'down_payment': '4'},\n",
       " {'amount': '4', 'duration': '6', 'rate': '3', 'down_payment': '7'},\n",
       " {'amount': '4', 'duration': '2', 'rate': '9', 'down_payment': '0'},\n",
       " {'amount': '9', 'duration': '1', 'rate': '6', 'down_payment': '0'},\n",
       " {'amount': '4', 'duration': '5', 'rate': '2', 'down_payment': '3'},\n",
       " {'amount': '9', 'duration': '9', 'rate': '1', 'down_payment': '3'},\n",
       " {'amount': '4', 'duration': '2', 'rate': '3', 'down_payment': '0'}]"
      ]
     },
     "execution_count": 123,
     "metadata": {},
     "output_type": "execute_result"
    }
   ],
   "source": [
    "read_csv('bankLoan.txt')"
   ]
  },
  {
   "cell_type": "code",
   "execution_count": 125,
   "id": "5c70a7e8",
   "metadata": {},
   "outputs": [
    {
     "data": {
      "text/plain": [
       "[{'amount': 100000.0, 'duration': 36.0, 'rate': 0.08, 'down_payment': 20000.0},\n",
       " {'amount': 200000.0, 'duration': 12.0, 'rate': 0.1, 'down_payment': 0.0},\n",
       " {'amount': 628400.0,\n",
       "  'duration': 120.0,\n",
       "  'rate': 0.12,\n",
       "  'down_payment': 100000.0},\n",
       " {'amount': 4637400.0, 'duration': 240.0, 'rate': 0.06, 'down_payment': 0.0},\n",
       " {'amount': 42900.0, 'duration': 90.0, 'rate': 0.07, 'down_payment': 8900.0},\n",
       " {'amount': 916000.0, 'duration': 16.0, 'rate': 0.13, 'down_payment': 0.0},\n",
       " {'amount': 45230.0, 'duration': 48.0, 'rate': 0.08, 'down_payment': 4300.0},\n",
       " {'amount': 991360.0, 'duration': 99.0, 'rate': 0.08, 'down_payment': 0.0},\n",
       " {'amount': 423000.0, 'duration': 27.0, 'rate': 0.09, 'down_payment': 47200.0}]"
      ]
     },
     "execution_count": 125,
     "metadata": {},
     "output_type": "execute_result"
    }
   ],
   "source": [
    "read_csv('bankLoan.txt')"
   ]
  },
  {
   "cell_type": "code",
   "execution_count": 127,
   "id": "bbe9797c",
   "metadata": {},
   "outputs": [],
   "source": [
    "loans = read_csv('bankLoan')"
   ]
  },
  {
   "cell_type": "code",
   "execution_count": 128,
   "id": "71a5d28b",
   "metadata": {},
   "outputs": [
    {
     "data": {
      "text/plain": [
       "[{'amount': 100000.0, 'duration': 36.0, 'rate': 0.08, 'down_payment': 20000.0},\n",
       " {'amount': 200000.0, 'duration': 12.0, 'rate': 0.1, 'down_payment': 0.0},\n",
       " {'amount': 628400.0,\n",
       "  'duration': 120.0,\n",
       "  'rate': 0.12,\n",
       "  'down_payment': 100000.0},\n",
       " {'amount': 4637400.0, 'duration': 240.0, 'rate': 0.06, 'down_payment': 0.0},\n",
       " {'amount': 42900.0, 'duration': 90.0, 'rate': 0.07, 'down_payment': 8900.0},\n",
       " {'amount': 916000.0, 'duration': 16.0, 'rate': 0.13, 'down_payment': 0.0},\n",
       " {'amount': 45230.0, 'duration': 48.0, 'rate': 0.08, 'down_payment': 4300.0},\n",
       " {'amount': 991360.0, 'duration': 99.0, 'rate': 0.08, 'down_payment': 0.0},\n",
       " {'amount': 423000.0, 'duration': 27.0, 'rate': 0.09, 'down_payment': 47200.0}]"
      ]
     },
     "execution_count": 128,
     "metadata": {},
     "output_type": "execute_result"
    }
   ],
   "source": [
    "loans"
   ]
  },
  {
   "cell_type": "code",
   "execution_count": 133,
   "id": "1d8d6832",
   "metadata": {},
   "outputs": [],
   "source": [
    "import math\n",
    "\n",
    "def loan_emi(amount, duration, rate, down_payment=0):\n",
    "   \n",
    "    loan_amount = amount - down_payment\n",
    "    try:\n",
    "        emi = loan_amount * rate * ((1+rate)**duration) / (((1+rate)**duration)-1)\n",
    "    except ZeroDivisionError:\n",
    "        emi = loan_amount / duration\n",
    "    emi = math.ceil(emi)\n",
    "    return emi"
   ]
  },
  {
   "cell_type": "code",
   "execution_count": 134,
   "id": "13e4ce62",
   "metadata": {},
   "outputs": [
    {
     "name": "stdout",
     "output_type": "stream",
     "text": [
      "Help on function loan_emi in module __main__:\n",
      "\n",
      "loan_emi(amount, duration, rate, down_payment=0)\n",
      "\n"
     ]
    }
   ],
   "source": [
    "help(loan_emi)"
   ]
  },
  {
   "cell_type": "code",
   "execution_count": 135,
   "id": "8406839f",
   "metadata": {},
   "outputs": [],
   "source": [
    "def compute_emis(loans):\n",
    "    for loan in loans:\n",
    "           loan['emi'] = loan_emi(\n",
    "            loan['amount'], \n",
    "            loan['duration'], \n",
    "            loan['rate']/12, # the CSV contains yearly rates\n",
    "            loan['down_payment'])"
   ]
  },
  {
   "cell_type": "code",
   "execution_count": 137,
   "id": "765f6b99",
   "metadata": {},
   "outputs": [],
   "source": [
    "compute_emis(loans)"
   ]
  },
  {
   "cell_type": "code",
   "execution_count": 138,
   "id": "9c0af232",
   "metadata": {},
   "outputs": [
    {
     "data": {
      "text/plain": [
       "[{'amount': 100000.0,\n",
       "  'duration': 36.0,\n",
       "  'rate': 0.08,\n",
       "  'down_payment': 20000.0,\n",
       "  'emi': 2507},\n",
       " {'amount': 200000.0,\n",
       "  'duration': 12.0,\n",
       "  'rate': 0.1,\n",
       "  'down_payment': 0.0,\n",
       "  'emi': 17584},\n",
       " {'amount': 628400.0,\n",
       "  'duration': 120.0,\n",
       "  'rate': 0.12,\n",
       "  'down_payment': 100000.0,\n",
       "  'emi': 7582},\n",
       " {'amount': 4637400.0,\n",
       "  'duration': 240.0,\n",
       "  'rate': 0.06,\n",
       "  'down_payment': 0.0,\n",
       "  'emi': 33224},\n",
       " {'amount': 42900.0,\n",
       "  'duration': 90.0,\n",
       "  'rate': 0.07,\n",
       "  'down_payment': 8900.0,\n",
       "  'emi': 487},\n",
       " {'amount': 916000.0,\n",
       "  'duration': 16.0,\n",
       "  'rate': 0.13,\n",
       "  'down_payment': 0.0,\n",
       "  'emi': 62664},\n",
       " {'amount': 45230.0,\n",
       "  'duration': 48.0,\n",
       "  'rate': 0.08,\n",
       "  'down_payment': 4300.0,\n",
       "  'emi': 1000},\n",
       " {'amount': 991360.0,\n",
       "  'duration': 99.0,\n",
       "  'rate': 0.08,\n",
       "  'down_payment': 0.0,\n",
       "  'emi': 13712},\n",
       " {'amount': 423000.0,\n",
       "  'duration': 27.0,\n",
       "  'rate': 0.09,\n",
       "  'down_payment': 47200.0,\n",
       "  'emi': 15428}]"
      ]
     },
     "execution_count": 138,
     "metadata": {},
     "output_type": "execute_result"
    }
   ],
   "source": [
    "loans"
   ]
  },
  {
   "cell_type": "code",
   "execution_count": 141,
   "id": "92447e9f",
   "metadata": {},
   "outputs": [],
   "source": [
    "newFile = open('sample', 'w')"
   ]
  },
  {
   "cell_type": "code",
   "execution_count": 142,
   "id": "d0f35d95",
   "metadata": {},
   "outputs": [
    {
     "data": {
      "text/plain": [
       "['.ipynb_checkpoints',\n",
       " 'Adobe Photoshop 2021.lnk',\n",
       " 'bankLoan',\n",
       " 'bankLoan.txt',\n",
       " 'data',\n",
       " 'LearningDataScience.ipynb',\n",
       " 'Machine learning.ipynb',\n",
       " 'orphan.sh',\n",
       " 'Removed Apps.html',\n",
       " 'sample',\n",
       " 'sathyappp']"
      ]
     },
     "execution_count": 142,
     "metadata": {},
     "output_type": "execute_result"
    }
   ],
   "source": [
    "os.listdir()"
   ]
  },
  {
   "cell_type": "code",
   "execution_count": 145,
   "id": "5e04dc33",
   "metadata": {},
   "outputs": [],
   "source": [
    "with open('emis1', 'w') as f:\n",
    "    for loan in loans :\n",
    "        f.write('{}, {}, {}, {}, {} \\n'.format(loan['amount'], loan['duration'], loan['rate'], loan['down_payment'], loan['emi']))"
   ]
  },
  {
   "cell_type": "code",
   "execution_count": 146,
   "id": "bfdde483",
   "metadata": {},
   "outputs": [
    {
     "data": {
      "text/plain": [
       "['.ipynb_checkpoints',\n",
       " 'Adobe Photoshop 2021.lnk',\n",
       " 'bankLoan',\n",
       " 'bankLoan.txt',\n",
       " 'data',\n",
       " 'emis1',\n",
       " 'LearningDataScience.ipynb',\n",
       " 'Machine learning.ipynb',\n",
       " 'orphan.sh',\n",
       " 'Removed Apps.html',\n",
       " 'sample',\n",
       " 'sathyappp']"
      ]
     },
     "execution_count": 146,
     "metadata": {},
     "output_type": "execute_result"
    }
   ],
   "source": [
    "os.listdir()"
   ]
  },
  {
   "cell_type": "code",
   "execution_count": 149,
   "id": "9f121d98",
   "metadata": {},
   "outputs": [
    {
     "name": "stdout",
     "output_type": "stream",
     "text": [
      "['100000.0, 36.0, 0.08, 20000.0, 2507 \\n', '200000.0, 12.0, 0.1, 0.0, 17584 \\n', '628400.0, 120.0, 0.12, 100000.0, 7582 \\n', '4637400.0, 240.0, 0.06, 0.0, 33224 \\n', '42900.0, 90.0, 0.07, 8900.0, 487 \\n', '916000.0, 16.0, 0.13, 0.0, 62664 \\n', '45230.0, 48.0, 0.08, 4300.0, 1000 \\n', '991360.0, 99.0, 0.08, 0.0, 13712 \\n', '423000.0, 27.0, 0.09, 47200.0, 15428 \\n']\n"
     ]
    }
   ],
   "source": [
    "with open('emis1') as file:\n",
    "    lines = file.readlines()\n",
    "print(lines)"
   ]
  },
  {
   "cell_type": "code",
   "execution_count": null,
   "id": "499363fa",
   "metadata": {},
   "outputs": [],
   "source": []
  }
 ],
 "metadata": {
  "kernelspec": {
   "display_name": "Python 3 (ipykernel)",
   "language": "python",
   "name": "python3"
  },
  "language_info": {
   "codemirror_mode": {
    "name": "ipython",
    "version": 3
   },
   "file_extension": ".py",
   "mimetype": "text/x-python",
   "name": "python",
   "nbconvert_exporter": "python",
   "pygments_lexer": "ipython3",
   "version": "3.9.7"
  }
 },
 "nbformat": 4,
 "nbformat_minor": 5
}
